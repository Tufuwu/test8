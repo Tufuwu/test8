{
 "cells": [
  {
   "cell_type": "markdown",
   "metadata": {},
   "source": [
    "# This notebook describes issue 7"
   ]
  },
  {
   "cell_type": "markdown",
   "metadata": {},
   "source": [
    "## Use case"
   ]
  },
  {
   "cell_type": "markdown",
   "metadata": {},
   "source": [
    "The files in `issues/7` show a typical use case for the feature request of this issue: there is some library of useful code `lib.py` that needs testing. Some of the functionality is covered in the file `test_lib.py`. \n",
    "\n",
    "In particular, there are two functions defined in `lib.py` in this simple example: `mysum()` and `myprod()`. The tests in `test_lib.py` only test the `mysum()` function.\n",
    "\n",
    "We can measure the test coverage using:"
   ]
  },
  {
   "cell_type": "code",
   "execution_count": 1,
   "metadata": {
    "collapsed": false
   },
   "outputs": [
    {
     "name": "stdout",
     "output_type": "stream",
     "text": [
      "\u001b[1m============================= test session starts ==============================\u001b[0m\r\n",
      "platform darwin -- Python 3.4.4, pytest-2.8.5, py-1.4.31, pluggy-0.3.1 -- /Users/fangohr/anaconda/bin/python\r\n",
      "cachedir: ../../.cache\r\n",
      "rootdir: /Users/fangohr/git/nbval, inifile: \r\n",
      "plugins: hypothesis-1.12.0, nbval-0.3, cov-2.1.0\r\n",
      "\u001b[1m\r",
      "collecting 0 items\u001b[0m\u001b[1m\r",
      "collecting 1 items\u001b[0m\u001b[1m\r",
      "collected 1 items \r\n",
      "\u001b[0m\r\n",
      "test_lib.py::test_sum \u001b[32mPASSED\u001b[0m\r\n",
      "--------------- coverage: platform darwin, python 3.4.4-final-0 ----------------\r\n",
      "Name    Stmts   Miss  Cover\r\n",
      "---------------------------\r\n",
      "lib         4      1    75%\r\n",
      "\r\n",
      "\u001b[1m\u001b[32m=========================== 1 passed in 0.01 seconds ===========================\u001b[0m\r\n"
     ]
    }
   ],
   "source": [
    "!py.test -v --cov lib.py test_lib.py \n"
   ]
  },
  {
   "cell_type": "markdown",
   "metadata": {},
   "source": [
    "The 75% coverage here come from 3 lines of code that are covered, and one that isn't. The 2 functions each have the line containing the `def` keyword, which is always executed, and one line in the body of the function which is covered through tests for `mysum` but not for `myprod`; thus 3/4 = 75%."
   ]
  },
  {
   "cell_type": "markdown",
   "metadata": {},
   "source": [
    "## Including the notebook in the test coverage\n",
    "\n",
    "It is not unusual to have a notebook that documents how to use functions in the library. In this example, the notebook `tutorial_lib.ipynb` calls `mysum` and `myprod` with different values to demonstrate how they work. \n",
    "\n",
    "Using nbval, we can treat those calls as tests:"
   ]
  },
  {
   "cell_type": "code",
   "execution_count": 2,
   "metadata": {
    "collapsed": false
   },
   "outputs": [
    {
     "name": "stdout",
     "output_type": "stream",
     "text": [
      "\u001b[1m============================= test session starts ==============================\u001b[0m\n",
      "platform darwin -- Python 3.4.4, pytest-2.8.5, py-1.4.31, pluggy-0.3.1 -- /Users/fangohr/anaconda/bin/python\n",
      "cachedir: ../../.cache\n",
      "rootdir: /Users/fangohr/git/nbval, inifile: \n",
      "plugins: hypothesis-1.12.0, nbval-0.3, cov-2.1.0\n",
      "collected 9 items \n",
      "\u001b[0m\n",
      "tutorial_lib.ipynb::Cell 1 \u001b[32mPASSED\u001b[0m\n",
      "tutorial_lib.ipynb::Cell 3 \u001b[32mPASSED\u001b[0m\n",
      "tutorial_lib.ipynb::Cell 4 \u001b[32mPASSED\u001b[0m\n",
      "tutorial_lib.ipynb::Cell 5 \u001b[32mPASSED\u001b[0m\n",
      "tutorial_lib.ipynb::Cell 7 \u001b[32mPASSED\u001b[0m\n",
      "tutorial_lib.ipynb::Cell 9 \u001b[32mPASSED\u001b[0m\n",
      "tutorial_lib.ipynb::Cell 10 \u001b[32mPASSED\u001b[0m\n",
      "tutorial_lib.ipynb::Cell 11 \u001b[32mPASSED\u001b[0m\n",
      "tutorial_lib.ipynb::Cell 13 \u001b[32mPASSED\u001b[0m\n",
      "\n",
      "\u001b[32m\u001b[1m=========================== 9 passed in 2.22 seconds ===========================\u001b[0m\n"
     ]
    }
   ],
   "source": [
    "!py.test -v --nbval tutorial_lib.ipynb "
   ]
  },
  {
   "cell_type": "markdown",
   "metadata": {},
   "source": [
    "## The feature request\n",
    "\n",
    "The feature request in this issue is to support measuring of the code coverage that takes place when the nbval tests are carried out in the output of the coverage tool. Currently, the function calls from the nbval execution are not recorded:"
   ]
  },
  {
   "cell_type": "code",
   "execution_count": 3,
   "metadata": {
    "collapsed": false
   },
   "outputs": [
    {
     "name": "stdout",
     "output_type": "stream",
     "text": [
      "\u001b[1m============================= test session starts ==============================\u001b[0m\n",
      "platform darwin -- Python 3.4.4, pytest-2.8.5, py-1.4.31, pluggy-0.3.1 -- /Users/fangohr/anaconda/bin/python\n",
      "cachedir: ../../.cache\n",
      "rootdir: /Users/fangohr/git/nbval, inifile: \n",
      "plugins: hypothesis-1.12.0, nbval-0.3, cov-2.1.0\n",
      "collected 9 items \n",
      "\u001b[0m\n",
      "tutorial_lib.ipynb::Cell 1 \u001b[32mPASSED\u001b[0m\n",
      "tutorial_lib.ipynb::Cell 3 \u001b[32mPASSED\u001b[0m\n",
      "tutorial_lib.ipynb::Cell 4 \u001b[32mPASSED\u001b[0m\n",
      "tutorial_lib.ipynb::Cell 5 \u001b[32mPASSED\u001b[0m\n",
      "tutorial_lib.ipynb::Cell 7 \u001b[32mPASSED\u001b[0m\n",
      "tutorial_lib.ipynb::Cell 9 \u001b[32mPASSED\u001b[0m\n",
      "tutorial_lib.ipynb::Cell 10 \u001b[32mPASSED\u001b[0m\n",
      "tutorial_lib.ipynb::Cell 11 \u001b[32mPASSED\u001b[0m\n",
      "tutorial_lib.ipynb::Cell 13 \u001b[32mPASSED\u001b[0mCoverage.py warning: No data was collected.\n",
      "\n",
      "--------------- coverage: platform darwin, python 3.4.4-final-0 ----------------\n",
      "Name    Stmts   Miss  Cover\n",
      "---------------------------\n",
      "\n",
      "\u001b[1m\u001b[32m=========================== 9 passed in 2.29 seconds ===========================\u001b[0m\n"
     ]
    }
   ],
   "source": [
    "!py.test -v --nbval --cov lib.py tutorial_lib.ipynb"
   ]
  },
  {
   "cell_type": "markdown",
   "metadata": {},
   "source": [
    "Ideally, we'd like to see 100% code coverage in `lib.py` if we run the above command, or the one below which combines the tests from the notebook (via nbval) and those explicitely coded in `test_lib.py`:"
   ]
  },
  {
   "cell_type": "code",
   "execution_count": 4,
   "metadata": {
    "collapsed": false
   },
   "outputs": [
    {
     "name": "stdout",
     "output_type": "stream",
     "text": [
      "\u001b[1m============================= test session starts ==============================\u001b[0m\n",
      "platform darwin -- Python 3.4.4, pytest-2.8.5, py-1.4.31, pluggy-0.3.1 -- /Users/fangohr/anaconda/bin/python\n",
      "cachedir: ../../.cache\n",
      "rootdir: /Users/fangohr/git/nbval, inifile: \n",
      "plugins: hypothesis-1.12.0, nbval-0.3, cov-2.1.0\n",
      "collected 10 items \n",
      "\u001b[0m\n",
      "test_lib.py::test_sum \u001b[32mPASSED\u001b[0m\n",
      "tutorial_lib.ipynb::Cell 1 \u001b[32mPASSED\u001b[0m\n",
      "tutorial_lib.ipynb::Cell 3 \u001b[32mPASSED\u001b[0m\n",
      "tutorial_lib.ipynb::Cell 4 \u001b[32mPASSED\u001b[0m\n",
      "tutorial_lib.ipynb::Cell 5 \u001b[32mPASSED\u001b[0m\n",
      "tutorial_lib.ipynb::Cell 7 \u001b[32mPASSED\u001b[0m\n",
      "tutorial_lib.ipynb::Cell 9 \u001b[32mPASSED\u001b[0m\n",
      "tutorial_lib.ipynb::Cell 10 \u001b[32mPASSED\u001b[0m\n",
      "tutorial_lib.ipynb::Cell 11 \u001b[32mPASSED\u001b[0m\n",
      "tutorial_lib.ipynb::Cell 13 \u001b[32mPASSED\u001b[0m\n",
      "--------------- coverage: platform darwin, python 3.4.4-final-0 ----------------\n",
      "Name    Stmts   Miss  Cover\n",
      "---------------------------\n",
      "lib         4      1    75%\n",
      "\n",
      "\u001b[32m\u001b[1m========================== 10 passed in 2.32 seconds ===========================\u001b[0m\n"
     ]
    }
   ],
   "source": [
    "!py.test -v --nbval --cov lib.py test_lib.py tutorial_lib.ipynb"
   ]
  }
 ],
 "metadata": {
  "kernelspec": {
   "display_name": "Python 3",
   "language": "python",
   "name": "python3"
  },
  "language_info": {
   "codemirror_mode": {
    "name": "ipython",
    "version": 3
   },
   "file_extension": ".py",
   "mimetype": "text/x-python",
   "name": "python",
   "nbconvert_exporter": "python",
   "pygments_lexer": "ipython3",
   "version": "3.4.4"
  }
 },
 "nbformat": 4,
 "nbformat_minor": 0
}
